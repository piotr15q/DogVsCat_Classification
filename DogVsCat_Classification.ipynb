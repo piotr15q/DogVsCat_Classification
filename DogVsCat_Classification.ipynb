{
 "cells": [
  {
   "cell_type": "markdown",
   "id": "ff432f00-f207-438d-80c1-b6bf0dac639c",
   "metadata": {},
   "source": [
    "# Project: Dog vs Cat Classification"
   ]
  },
  {
   "cell_type": "code",
   "execution_count": 6,
   "id": "ae1ae94b-e17d-44b7-a59e-acf8e5401c9b",
   "metadata": {},
   "outputs": [],
   "source": [
    "from pathlib import Path\n",
    "import os"
   ]
  },
  {
   "cell_type": "code",
   "execution_count": 7,
   "id": "69e86cc7-8d3f-4388-937d-66344c5bb4be",
   "metadata": {},
   "outputs": [],
   "source": [
    "data_path = Path(\"/data\")"
   ]
  },
  {
   "cell_type": "code",
   "execution_count": 8,
   "id": "b2ea04e0-b6db-4edb-8dfc-b8f9dde99919",
   "metadata": {},
   "outputs": [],
   "source": [
    "dog_path = data_path / \"Dog\"\n",
    "cat_path = data_path / \"Cat\""
   ]
  },
  {
   "cell_type": "code",
   "execution_count": 9,
   "id": "4d4f0ecb-de09-430a-beab-4d542c18028a",
   "metadata": {},
   "outputs": [
    {
     "data": {
      "text/plain": [
       "(WindowsPath('/data/Dog'), WindowsPath('/data/Cat'))"
      ]
     },
     "execution_count": 9,
     "metadata": {},
     "output_type": "execute_result"
    }
   ],
   "source": [
    "dog_path, cat_path"
   ]
  },
  {
   "cell_type": "code",
   "execution_count": null,
   "id": "b7de9aad-b6b1-4c07-a8d3-dd3405c9611d",
   "metadata": {},
   "outputs": [],
   "source": []
  }
 ],
 "metadata": {
  "kernelspec": {
   "display_name": "Python 3 (ipykernel)",
   "language": "python",
   "name": "python3"
  },
  "language_info": {
   "codemirror_mode": {
    "name": "ipython",
    "version": 3
   },
   "file_extension": ".py",
   "mimetype": "text/x-python",
   "name": "python",
   "nbconvert_exporter": "python",
   "pygments_lexer": "ipython3",
   "version": "3.9.21"
  }
 },
 "nbformat": 4,
 "nbformat_minor": 5
}
